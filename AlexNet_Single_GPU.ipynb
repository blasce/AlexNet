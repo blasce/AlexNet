{
  "nbformat": 4,
  "nbformat_minor": 0,
  "metadata": {
    "colab": {
      "provenance": [],
      "authorship_tag": "ABX9TyPdyuAoyObmusGeHtrUr46T",
      "include_colab_link": true
    },
    "kernelspec": {
      "name": "python3",
      "display_name": "Python 3"
    },
    "language_info": {
      "name": "python"
    }
  },
  "cells": [
    {
      "cell_type": "markdown",
      "metadata": {
        "id": "view-in-github",
        "colab_type": "text"
      },
      "source": [
        "<a href=\"https://colab.research.google.com/github/blasce/AlexNet/blob/main/AlexNet_Single_GPU.ipynb\" target=\"_parent\"><img src=\"https://colab.research.google.com/assets/colab-badge.svg\" alt=\"Open In Colab\"/></a>"
      ]
    },
    {
      "cell_type": "markdown",
      "source": [
        "#Imports"
      ],
      "metadata": {
        "id": "4gaRclm0Qrj6"
      }
    },
    {
      "cell_type": "code",
      "execution_count": null,
      "metadata": {
        "id": "lxlY5UCGPdiK"
      },
      "outputs": [],
      "source": [
        "import torch\n",
        "import torch.nn as nn"
      ]
    },
    {
      "cell_type": "markdown",
      "source": [
        "#Class/Model Definition"
      ],
      "metadata": {
        "id": "FCB0mREqQwCv"
      }
    },
    {
      "cell_type": "code",
      "source": [
        "class AlexNet(nn.Module):\n",
        "  def __init__(self, in_channels=3,classes=1000):\n",
        "    super().__init__()\n",
        "    self.c1 = nn.Conv2d(in_channels=in_channels, out_channels=96, kernel_size=11, stride = 4, padding = 0)\n",
        "    self.c2 = nn.Conv2d(in_channels=96, out_channels=256, kernel_size=5, stride = 1, padding = 2)\n",
        "    self.c3 = nn.Conv2d(in_channels=256, out_channels=384, kernel_size=3, stride = 1, padding = 1)\n",
        "    self.c4 = nn.Conv2d(in_channels=384, out_channels=384, kernel_size=3, stride = 1, padding = 1)\n",
        "    self.c5 = nn.Conv2d(in_channels=384, out_channels=256, kernel_size=3, stride = 1, padding = 1)\n",
        "    self.fc1 = nn.Linear(6*6*256, 4096)\n",
        "    self.fc2 = nn.Linear(4096, 4096)\n",
        "    self.fc3 = nn.Linear(4096, classes)\n",
        "\n",
        "    self.norm = nn.LocalResponseNorm(size=5)\n",
        "    self.maxpool = nn.MaxPool2d(kernel_size = 3, stride = 2)\n",
        "    self.relu = nn.ReLU()\n",
        "\n",
        "    self.weight_init()\n",
        "\n",
        "  def forward(self, x):\n",
        "    x = self.maxpool(self.norm(self.relu(self.c1(x))))\n",
        "    x = self.maxpool(self.norm(self.relu(self.c2(x))))\n",
        "    x = self.relu(self.c3(x))\n",
        "    x = self.relu(self.c4(x))\n",
        "    x = self.maxpool(self.relu(self.c5(x)))\n",
        "    x = torch.flatten(x, 1)\n",
        "    x = self.relu(self.fc1(x))\n",
        "    x = self.relu(self.fc2(x))\n",
        "    x = self.fc3(x)\n",
        "    return x\n",
        "\n",
        "  def weight_init(self):\n",
        "    bias = [1,3,4,5,6,7]\n",
        "    for i, layer in enumerate(self.modules()):\n",
        "      if layer is nn.Conv2d or layer is nn.Linear:\n",
        "        nn.init.normal_(mean = 0, std=1)\n",
        "        if i in bias:\n",
        "            nn.init.constant_(layer, 1)\n",
        "        else:\n",
        "            nn.init.constant_(layer, 0)\n",
        "\n",
        "\n",
        "net = AlexNet()\n",
        "net(torch.rand(32,3,227,227)).shape\n",
        "\n",
        "\n"
      ],
      "metadata": {
        "id": "QZJbngKuQpik",
        "colab": {
          "base_uri": "https://localhost:8080/"
        },
        "outputId": "6d4e08d2-c0a3-41f5-f9fb-b6a11222c062"
      },
      "execution_count": null,
      "outputs": [
        {
          "output_type": "execute_result",
          "data": {
            "text/plain": [
              "torch.Size([32, 1000])"
            ]
          },
          "metadata": {},
          "execution_count": 7
        }
      ]
    },
    {
      "cell_type": "code",
      "source": [],
      "metadata": {
        "id": "rDKeDbTnHAOo"
      },
      "execution_count": null,
      "outputs": []
    }
  ]
}